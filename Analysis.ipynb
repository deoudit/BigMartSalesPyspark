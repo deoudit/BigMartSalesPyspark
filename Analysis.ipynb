{
 "metadata": {
  "language_info": {
   "codemirror_mode": {
    "name": "ipython",
    "version": 3
   },
   "file_extension": ".py",
   "mimetype": "text/x-python",
   "name": "python",
   "nbconvert_exporter": "python",
   "pygments_lexer": "ipython3",
   "version": "3.7.6-final"
  },
  "orig_nbformat": 2,
  "kernelspec": {
   "name": "python3",
   "display_name": "Python 3",
   "language": "python"
  }
 },
 "nbformat": 4,
 "nbformat_minor": 2,
 "cells": [
  {
   "source": [
    "# PySpark for BigMart Sales"
   ],
   "cell_type": "markdown",
   "metadata": {}
  },
  {
   "cell_type": "code",
   "execution_count": 1,
   "metadata": {},
   "outputs": [
    {
     "output_type": "stream",
     "name": "stdout",
     "text": [
      "root\n |-- Item_Identifier: string (nullable = true)\n |-- Item_Weight: double (nullable = true)\n |-- Item_Fat_Content: string (nullable = true)\n |-- Item_Visibility: double (nullable = true)\n |-- Item_Type: string (nullable = true)\n |-- Item_MRP: double (nullable = true)\n |-- Outlet_Identifier: string (nullable = true)\n |-- Outlet_Establishment_Year: integer (nullable = true)\n |-- Outlet_Size: string (nullable = true)\n |-- Outlet_Location_Type: string (nullable = true)\n |-- Outlet_Type: string (nullable = true)\n |-- Item_Outlet_Sales: double (nullable = true)\n\n"
     ]
    }
   ],
   "source": [
    "from pyspark.sql import SparkSession\n",
    "spark = SparkSession.builder.appName('Analysis-BigMart').getOrCreate()\n",
    "data = spark.read.csv('train.csv', header = True, inferSchema = True)\n",
    "data.printSchema()"
   ]
  },
  {
   "cell_type": "code",
   "execution_count": 2,
   "metadata": {},
   "outputs": [
    {
     "output_type": "stream",
     "name": "stdout",
     "text": [
      "+---------------+-----------+----------------+---------------+---------------------+--------+-----------------+-------------------------+-----------+--------------------+-----------------+-----------------+\n|Item_Identifier|Item_Weight|Item_Fat_Content|Item_Visibility|Item_Type            |Item_MRP|Outlet_Identifier|Outlet_Establishment_Year|Outlet_Size|Outlet_Location_Type|Outlet_Type      |Item_Outlet_Sales|\n+---------------+-----------+----------------+---------------+---------------------+--------+-----------------+-------------------------+-----------+--------------------+-----------------+-----------------+\n|FDA15          |9.3        |Low Fat         |0.016047301    |Dairy                |249.8092|OUT049           |1999                     |Medium     |Tier 1              |Supermarket Type1|3735.138         |\n|DRC01          |5.92       |Regular         |0.019278216    |Soft Drinks          |48.2692 |OUT018           |2009                     |Medium     |Tier 3              |Supermarket Type2|443.4228         |\n|FDN15          |17.5       |Low Fat         |0.016760075    |Meat                 |141.618 |OUT049           |1999                     |Medium     |Tier 1              |Supermarket Type1|2097.27          |\n|FDX07          |19.2       |Regular         |0.0            |Fruits and Vegetables|182.095 |OUT010           |1998                     |null       |Tier 3              |Grocery Store    |732.38           |\n|NCD19          |8.93       |Low Fat         |0.0            |Household            |53.8614 |OUT013           |1987                     |High       |Tier 3              |Supermarket Type1|994.7052         |\n+---------------+-----------+----------------+---------------+---------------------+--------+-----------------+-------------------------+-----------+--------------------+-----------------+-----------------+\nonly showing top 5 rows\n\n"
     ]
    }
   ],
   "source": [
    "data.show(5, truncate=False)"
   ]
  },
  {
   "cell_type": "code",
   "execution_count": 3,
   "metadata": {},
   "outputs": [
    {
     "output_type": "stream",
     "name": "stdout",
     "text": [
      "+-------+---------------+------------------+----------------+-------------------+-------------+-----------------+-----------------+-------------------------+-----------+--------------------+-----------------+------------------+\n|summary|Item_Identifier|       Item_Weight|Item_Fat_Content|    Item_Visibility|    Item_Type|         Item_MRP|Outlet_Identifier|Outlet_Establishment_Year|Outlet_Size|Outlet_Location_Type|      Outlet_Type| Item_Outlet_Sales|\n+-------+---------------+------------------+----------------+-------------------+-------------+-----------------+-----------------+-------------------------+-----------+--------------------+-----------------+------------------+\n|  count|           8523|              7060|            8523|               8523|         8523|             8523|             8523|                     8523|       6113|                8523|             8523|              8523|\n|   mean|           null|12.857645184136183|            null|0.06613202877895127|         null|140.9927819781768|             null|       1997.8318667135984|       null|                null|             null|2181.2889135750365|\n| stddev|           null| 4.643456499186414|            null|0.05159782232113514|         null|62.27506651219047|             null|        8.371760408092667|       null|                null|             null|1706.4996157338403|\n|    min|          DRA12|             4.555|              LF|                0.0| Baking Goods|            31.29|           OUT010|                     1985|       High|              Tier 1|    Grocery Store|             33.29|\n|    max|          NCZ54|             21.35|             reg|        0.328390948|Starchy Foods|         266.8884|           OUT049|                     2009|      Small|              Tier 3|Supermarket Type3|        13086.9648|\n+-------+---------------+------------------+----------------+-------------------+-------------+-----------------+-----------------+-------------------------+-----------+--------------------+-----------------+------------------+\n\n"
     ]
    }
   ],
   "source": [
    "data.describe().show()"
   ]
  },
  {
   "cell_type": "code",
   "execution_count": 4,
   "metadata": {},
   "outputs": [
    {
     "output_type": "stream",
     "name": "stdout",
     "text": [
      "+---------------+-----------+----------------+---------------+---------+--------+-----------------+-------------------------+-----------+--------------------+-----------+-----------------+\n|Item_Identifier|Item_Weight|Item_Fat_Content|Item_Visibility|Item_Type|Item_MRP|Outlet_Identifier|Outlet_Establishment_Year|Outlet_Size|Outlet_Location_Type|Outlet_Type|Item_Outlet_Sales|\n+---------------+-----------+----------------+---------------+---------+--------+-----------------+-------------------------+-----------+--------------------+-----------+-----------------+\n|              0|       1463|               0|              0|        0|       0|                0|                        0|       2410|                   0|          0|                0|\n+---------------+-----------+----------------+---------------+---------+--------+-----------------+-------------------------+-----------+--------------------+-----------+-----------------+\n\n"
     ]
    }
   ],
   "source": [
    "import pyspark.sql.functions as f\n",
    "\n",
    "# null values in each column\n",
    "data_agg = data.agg(*[f.count(f.when(f.isnull(c), c)).alias(c) for c in data.columns])\n",
    "data_agg.show()"
   ]
  },
  {
   "source": [
    "## Fill NA with mean and mode"
   ],
   "cell_type": "markdown",
   "metadata": {}
  },
  {
   "cell_type": "code",
   "execution_count": 5,
   "metadata": {},
   "outputs": [
    {
     "output_type": "stream",
     "name": "stdout",
     "text": [
      "+------------------+\n|  avg(Item_Weight)|\n+------------------+\n|12.857645184136183|\n+------------------+\n\n"
     ]
    }
   ],
   "source": [
    "data.agg({'Item_Weight': 'mean'}).show()"
   ]
  },
  {
   "cell_type": "code",
   "execution_count": 6,
   "metadata": {},
   "outputs": [],
   "source": [
    "data = data.fillna( { 'Item_Weight':12.857645184136183 } )"
   ]
  },
  {
   "cell_type": "code",
   "execution_count": 7,
   "metadata": {},
   "outputs": [
    {
     "output_type": "stream",
     "name": "stdout",
     "text": [
      "+-----------+-----+\n|Outlet_Size|count|\n+-----------+-----+\n|       High|  932|\n|       null| 2410|\n|     Medium| 2793|\n|      Small| 2388|\n+-----------+-----+\n\n"
     ]
    }
   ],
   "source": [
    "data.groupBy('Outlet_Size').count().show()"
   ]
  },
  {
   "cell_type": "code",
   "execution_count": 8,
   "metadata": {},
   "outputs": [],
   "source": [
    "data = data.fillna( { 'Outlet_Size':'Medium' } )"
   ]
  },
  {
   "cell_type": "code",
   "execution_count": 9,
   "metadata": {},
   "outputs": [
    {
     "output_type": "stream",
     "name": "stdout",
     "text": [
      "+---------------+-----------+----------------+---------------+---------+--------+-----------------+-------------------------+-----------+--------------------+-----------+-----------------+\n|Item_Identifier|Item_Weight|Item_Fat_Content|Item_Visibility|Item_Type|Item_MRP|Outlet_Identifier|Outlet_Establishment_Year|Outlet_Size|Outlet_Location_Type|Outlet_Type|Item_Outlet_Sales|\n+---------------+-----------+----------------+---------------+---------+--------+-----------------+-------------------------+-----------+--------------------+-----------+-----------------+\n|              0|          0|               0|              0|        0|       0|                0|                        0|          0|                   0|          0|                0|\n+---------------+-----------+----------------+---------------+---------+--------+-----------------+-------------------------+-----------+--------------------+-----------+-----------------+\n\n"
     ]
    }
   ],
   "source": [
    "import pyspark.sql.functions as f\n",
    "\n",
    "# null values in each column\n",
    "data_agg = data.agg(*[f.count(f.when(f.isnull(c), c)).alias(c) for c in data.columns])\n",
    "data_agg.show()"
   ]
  },
  {
   "source": [
    "## Label Encoding"
   ],
   "cell_type": "markdown",
   "metadata": {}
  },
  {
   "cell_type": "code",
   "execution_count": 10,
   "metadata": {},
   "outputs": [
    {
     "output_type": "execute_result",
     "data": {
      "text/plain": [
       "Row(Item_Identifier='FDA15', Item_Weight=9.3, Item_Fat_Content='Low Fat', Item_Visibility=0.016047301, Item_Type='Dairy', Item_MRP=249.8092, Outlet_Identifier='OUT049', Outlet_Establishment_Year=1999, Outlet_Size='Medium', Outlet_Location_Type='Tier 1', Outlet_Type='Supermarket Type1', Item_Outlet_Sales=3735.138, Item_Fat_Content_Index=0.0, Item_Type_Index=4.0, Outlet_Size_Index=0.0, Outlet_Location_Type_Index=2.0, Outlet_Type_Index=0.0)"
      ]
     },
     "metadata": {},
     "execution_count": 10
    }
   ],
   "source": [
    "from pyspark.ml.feature import StringIndexer\n",
    "\n",
    "# create object of StringIndexer class and specify input and output column\n",
    "SI_Fat = StringIndexer(inputCol='Item_Fat_Content',outputCol='Item_Fat_Content_Index')\n",
    "SI_Type = StringIndexer(inputCol='Item_Type',outputCol='Item_Type_Index')\n",
    "SI_Size = StringIndexer(inputCol='Outlet_Size',outputCol='Outlet_Size_Index')\n",
    "SI_Location = StringIndexer(inputCol='Outlet_Location_Type',outputCol='Outlet_Location_Type_Index')\n",
    "SI_Out_Type = StringIndexer(inputCol='Outlet_Type',outputCol='Outlet_Type_Index')\n",
    "\n",
    "# transform the data\n",
    "data = SI_Fat.fit(data).transform(data)\n",
    "data = SI_Type.fit(data).transform(data)\n",
    "data = SI_Size.fit(data).transform(data)\n",
    "data = SI_Location.fit(data).transform(data)\n",
    "data = SI_Out_Type.fit(data).transform(data)\n",
    "\n",
    "# view the transformed data\n",
    "data.first()"
   ]
  },
  {
   "source": [
    "## One Hot Encoding"
   ],
   "cell_type": "markdown",
   "metadata": {}
  },
  {
   "cell_type": "code",
   "execution_count": 11,
   "metadata": {},
   "outputs": [],
   "source": [
    "from pyspark.ml.feature import OneHotEncoder\n",
    "OHE = OneHotEncoder(inputCols=['Item_Fat_Content_Index', 'Item_Type_Index', 'Outlet_Size_Index', 'Outlet_Location_Type_Index', 'Outlet_Type_Index'],outputCols=['Item_Fat_Content_OHE', 'Item_Type_OHE', 'Outlet_Size_OHE', 'Outlet_Location_Type_OHE', 'Outlet_Type_OHE'])\n",
    "\n",
    "# transform the data\n",
    "data = OHE.fit(data).transform(data)"
   ]
  },
  {
   "cell_type": "code",
   "execution_count": 12,
   "metadata": {},
   "outputs": [
    {
     "output_type": "execute_result",
     "data": {
      "text/plain": [
       "[Row(Item_Identifier='FDA15', Item_Weight=9.3, Item_Fat_Content='Low Fat', Item_Visibility=0.016047301, Item_Type='Dairy', Item_MRP=249.8092, Outlet_Identifier='OUT049', Outlet_Establishment_Year=1999, Outlet_Size='Medium', Outlet_Location_Type='Tier 1', Outlet_Type='Supermarket Type1', Item_Outlet_Sales=3735.138, Item_Fat_Content_Index=0.0, Item_Type_Index=4.0, Outlet_Size_Index=0.0, Outlet_Location_Type_Index=2.0, Outlet_Type_Index=0.0, Outlet_Type_OHE=SparseVector(3, {0: 1.0}), Item_Fat_Content_OHE=SparseVector(4, {0: 1.0}), Outlet_Size_OHE=SparseVector(2, {0: 1.0}), Outlet_Location_Type_OHE=SparseVector(2, {}), Item_Type_OHE=SparseVector(15, {4: 1.0}))]"
      ]
     },
     "metadata": {},
     "execution_count": 12
    }
   ],
   "source": [
    "data.take(1)"
   ]
  },
  {
   "source": [
    "## Vectorizing into single Feature"
   ],
   "cell_type": "markdown",
   "metadata": {}
  },
  {
   "cell_type": "code",
   "execution_count": 13,
   "metadata": {},
   "outputs": [],
   "source": [
    "from pyspark.ml.feature import VectorAssembler\n",
    "\n",
    "inputcol = ['Item_Fat_Content_Index', 'Item_Type_Index', 'Outlet_Size_Index', 'Outlet_Location_Type_Index', 'Outlet_Type_Index','Item_Fat_Content_OHE', 'Item_Type_OHE', 'Outlet_Size_OHE', 'Outlet_Location_Type_OHE', 'Outlet_Type_OHE', 'Item_Weight', 'Item_Visibility', 'Item_MRP', 'Outlet_Establishment_Year']\n",
    "# specify the input and output columns of the vector assembler\n",
    "assembler = VectorAssembler(inputCols=inputcol, outputCol='features')\n",
    "\n",
    "# fill the null values\n",
    "data = data.fillna(0)\n",
    "\n",
    "# transform the data\n",
    "final_data = assembler.transform(data)"
   ]
  },
  {
   "cell_type": "code",
   "execution_count": 14,
   "metadata": {},
   "outputs": [
    {
     "output_type": "execute_result",
     "data": {
      "text/plain": [
       "[Row(Item_Identifier='FDA15', Item_Weight=9.3, Item_Fat_Content='Low Fat', Item_Visibility=0.016047301, Item_Type='Dairy', Item_MRP=249.8092, Outlet_Identifier='OUT049', Outlet_Establishment_Year=1999, Outlet_Size='Medium', Outlet_Location_Type='Tier 1', Outlet_Type='Supermarket Type1', Item_Outlet_Sales=3735.138, Item_Fat_Content_Index=0.0, Item_Type_Index=4.0, Outlet_Size_Index=0.0, Outlet_Location_Type_Index=2.0, Outlet_Type_Index=0.0, Outlet_Type_OHE=SparseVector(3, {0: 1.0}), Item_Fat_Content_OHE=SparseVector(4, {0: 1.0}), Outlet_Size_OHE=SparseVector(2, {0: 1.0}), Outlet_Location_Type_OHE=SparseVector(2, {}), Item_Type_OHE=SparseVector(15, {4: 1.0}), features=SparseVector(35, {1: 4.0, 3: 2.0, 5: 1.0, 13: 1.0, 24: 1.0, 28: 1.0, 31: 9.3, 32: 0.016, 33: 249.8092, 34: 1999.0}))]"
      ]
     },
     "metadata": {},
     "execution_count": 14
    }
   ],
   "source": [
    "final_data.take(1)"
   ]
  },
  {
   "cell_type": "code",
   "execution_count": 15,
   "metadata": {},
   "outputs": [],
   "source": [
    "df_train = final_data.select(['features', 'Item_Outlet_Sales'])"
   ]
  },
  {
   "cell_type": "code",
   "execution_count": 16,
   "metadata": {},
   "outputs": [
    {
     "output_type": "execute_result",
     "data": {
      "text/plain": [
       "[Row(features=SparseVector(35, {1: 4.0, 3: 2.0, 5: 1.0, 13: 1.0, 24: 1.0, 28: 1.0, 31: 9.3, 32: 0.016, 33: 249.8092, 34: 1999.0}), Item_Outlet_Sales=3735.138)]"
      ]
     },
     "metadata": {},
     "execution_count": 16
    }
   ],
   "source": [
    "df_train.take(1)"
   ]
  },
  {
   "cell_type": "code",
   "execution_count": 17,
   "metadata": {},
   "outputs": [
    {
     "output_type": "stream",
     "name": "stdout",
     "text": [
      "+--------------------+-----------------+\n|            features|Item_Outlet_Sales|\n+--------------------+-----------------+\n|(35,[1,3,5,13,24,...|         3735.138|\n|(35,[0,1,4,6,17,2...|         443.4228|\n|(35,[1,3,5,18,24,...|          2097.27|\n|(35,[0,4,6,9,24,2...|           732.38|\n|(35,[1,2,5,11,26,...|         994.7052|\n+--------------------+-----------------+\nonly showing top 5 rows\n\n"
     ]
    }
   ],
   "source": [
    "df_train.show(5)"
   ]
  },
  {
   "source": [
    "## Split train and test"
   ],
   "cell_type": "markdown",
   "metadata": {}
  },
  {
   "cell_type": "code",
   "execution_count": 18,
   "metadata": {},
   "outputs": [],
   "source": [
    "train_df, test_df = df_train.randomSplit([0.8, 0.2])"
   ]
  },
  {
   "source": [
    "## Applying various models in Pyspark Api"
   ],
   "cell_type": "markdown",
   "metadata": {}
  },
  {
   "cell_type": "code",
   "execution_count": 30,
   "metadata": {},
   "outputs": [
    {
     "output_type": "stream",
     "name": "stdout",
     "text": [
      "RMSE: 1133.476559\n",
      "R2: 0.554448\n",
      "+-------------------+-----------------+--------------------+\n",
      "|         prediction|Item_Outlet_Sales|            features|\n",
      "+-------------------+-----------------+--------------------+\n",
      "|  729.2843759230018|         331.5684|(35,[0,1,2,3,4,6,...|\n",
      "|  384.5975328735367|         425.4462|(35,[0,1,2,3,4,6,...|\n",
      "| 1136.7232229275978|          945.436|(35,[0,1,2,3,4,6,...|\n",
      "|-153.25180773547618|         317.5866|(35,[0,1,2,3,4,6,...|\n",
      "| -30.22022594201553|         113.8518|(35,[0,1,2,3,4,6,...|\n",
      "+-------------------+-----------------+--------------------+\n",
      "only showing top 5 rows\n",
      "\n",
      "Root Mean Square Error (RMSE) on test data = 1106.76\n",
      "R Squared (R2) on test data = 0.593892\n"
     ]
    }
   ],
   "source": [
    "# Linear Regression Model\n",
    "from pyspark.ml.regression import LinearRegression\n",
    "from pyspark.ml.evaluation import RegressionEvaluator\n",
    "\n",
    "lr = LinearRegression(featuresCol = 'features', labelCol='Item_Outlet_Sales', maxIter=150, regParam=0.0, elasticNetParam=0.0)\n",
    "lr_model = lr.fit(train_df)\n",
    "\n",
    "trainingSummary = lr_model.summary\n",
    "print(\"RMSE: %f\" % trainingSummary.rootMeanSquaredError)\n",
    "print(\"R2: %f\" % trainingSummary.r2)\n",
    "\n",
    "# Predict and Evaluate\n",
    "lr_predictions = lr_model.transform(test_df)\n",
    "lr_predictions.select(\"prediction\",\"Item_Outlet_Sales\",\"features\").show(5)\n",
    "\n",
    "lr_evaluator = RegressionEvaluator(predictionCol=\"prediction\", labelCol=\"Item_Outlet_Sales\",metricName=\"rmse\")\n",
    "print(\"Root Mean Square Error (RMSE) on test data = %g\" % lr_evaluator.evaluate(lr_predictions))\n",
    "\n",
    "lr_evaluator_r2 = RegressionEvaluator(predictionCol=\"prediction\", labelCol=\"Item_Outlet_Sales\",metricName=\"r2\")\n",
    "print(\"R Squared (R2) on test data = %g\" % lr_evaluator_r2.evaluate(lr_predictions))"
   ]
  },
  {
   "cell_type": "code",
   "execution_count": 23,
   "metadata": {},
   "outputs": [
    {
     "output_type": "stream",
     "name": "stdout",
     "text": [
      "RMSE: 1133.589738\n",
      "R2: 0.554359\n",
      "+-------------------+-----------------+--------------------+\n",
      "|         prediction|Item_Outlet_Sales|            features|\n",
      "+-------------------+-----------------+--------------------+\n",
      "|  723.1792481893208|         331.5684|(35,[0,1,2,3,4,6,...|\n",
      "| 378.63698723577545|         425.4462|(35,[0,1,2,3,4,6,...|\n",
      "|  1130.646491530053|          945.436|(35,[0,1,2,3,4,6,...|\n",
      "|-158.85101700072846|         317.5866|(35,[0,1,2,3,4,6,...|\n",
      "| -35.82258349095355|         113.8518|(35,[0,1,2,3,4,6,...|\n",
      "+-------------------+-----------------+--------------------+\n",
      "only showing top 5 rows\n",
      "\n",
      "Root Mean Square Error (RMSE) on test data = 1106.86\n",
      "R Squared (R2) on test data = 0.593819\n"
     ]
    }
   ],
   "source": [
    "#  Lasso Regression Model\n",
    "lar = LinearRegression(featuresCol = 'features', labelCol='Item_Outlet_Sales', maxIter=100, regParam=0.3, elasticNetParam=1)\n",
    "lar_model = lar.fit(train_df)\n",
    "\n",
    "trainingSummary = lar_model.summary\n",
    "print(\"RMSE: %f\" % trainingSummary.rootMeanSquaredError)\n",
    "print(\"R2: %f\" % trainingSummary.r2)\n",
    "\n",
    "# Predict and Evaluate\n",
    "lar_predictions = lar_model.transform(test_df)\n",
    "lar_predictions.select(\"prediction\",\"Item_Outlet_Sales\",\"features\").show(5)\n",
    "\n",
    "lar_evaluator = RegressionEvaluator(predictionCol=\"prediction\", labelCol=\"Item_Outlet_Sales\",metricName=\"rmse\")\n",
    "print(\"Root Mean Square Error (RMSE) on test data = %g\" % lar_evaluator.evaluate(lar_predictions))\n",
    "\n",
    "lar_evaluator_r2 = RegressionEvaluator(predictionCol=\"prediction\", labelCol=\"Item_Outlet_Sales\",metricName=\"r2\")\n",
    "print(\"R Squared (R2) on test data = %g\" % lar_evaluator_r2.evaluate(lar_predictions))"
   ]
  },
  {
   "cell_type": "code",
   "execution_count": 26,
   "metadata": {},
   "outputs": [
    {
     "output_type": "stream",
     "name": "stdout",
     "text": [
      "+------------------+-----------------+--------------------+\n",
      "|        prediction|Item_Outlet_Sales|            features|\n",
      "+------------------+-----------------+--------------------+\n",
      "|394.03078252427184|         331.5684|(35,[0,1,2,3,4,6,...|\n",
      "| 283.3360183206108|         425.4462|(35,[0,1,2,3,4,6,...|\n",
      "|500.69881896551715|          945.436|(35,[0,1,2,3,4,6,...|\n",
      "|223.94658571428573|         317.5866|(35,[0,1,2,3,4,6,...|\n",
      "| 283.3360183206108|         113.8518|(35,[0,1,2,3,4,6,...|\n",
      "+------------------+-----------------+--------------------+\n",
      "only showing top 5 rows\n",
      "\n",
      "Root Mean Square Error (RMSE) on test data = 1057.63\n",
      "R Squared (R2) on test data = 0.629148\n"
     ]
    }
   ],
   "source": [
    "# Decision Tree Regression Model\n",
    "from pyspark.ml.regression import DecisionTreeRegressor\n",
    "\n",
    "dt = DecisionTreeRegressor(featuresCol = 'features', labelCol='Item_Outlet_Sales', maxDepth=15, minInstancesPerNode=100)\n",
    "dt_model = dt.fit(train_df)\n",
    "\n",
    "# Predict and Evaluate\n",
    "dt_predictions = dt_model.transform(test_df)\n",
    "dt_predictions.select(\"prediction\",\"Item_Outlet_Sales\",\"features\").show(5)\n",
    "\n",
    "df_evaluator = RegressionEvaluator(predictionCol=\"prediction\", labelCol=\"Item_Outlet_Sales\",metricName=\"rmse\")\n",
    "print(\"Root Mean Square Error (RMSE) on test data = %g\" % df_evaluator.evaluate(dt_predictions))\n",
    "\n",
    "df_evaluator_r2 = RegressionEvaluator(predictionCol=\"prediction\", labelCol=\"Item_Outlet_Sales\",metricName=\"r2\")\n",
    "print(\"R Squared (R2) on test data = %g\" % df_evaluator_r2.evaluate(dt_predictions))"
   ]
  },
  {
   "cell_type": "code",
   "execution_count": 27,
   "metadata": {},
   "outputs": [
    {
     "output_type": "stream",
     "name": "stdout",
     "text": [
      "+------------------+-----------------+--------------------+\n",
      "|        prediction|Item_Outlet_Sales|            features|\n",
      "+------------------+-----------------+--------------------+\n",
      "|477.42167799114003|         331.5684|(35,[0,1,2,3,4,6,...|\n",
      "|342.25790791842667|         425.4462|(35,[0,1,2,3,4,6,...|\n",
      "| 541.6654409408936|          945.436|(35,[0,1,2,3,4,6,...|\n",
      "| 245.1703909636694|         317.5866|(35,[0,1,2,3,4,6,...|\n",
      "|311.27774749352017|         113.8518|(35,[0,1,2,3,4,6,...|\n",
      "+------------------+-----------------+--------------------+\n",
      "only showing top 5 rows\n",
      "\n",
      "Root Mean Square Error (RMSE) on test data = 1047.03\n",
      "R Squared (R2) on test data = 0.636544\n"
     ]
    }
   ],
   "source": [
    "## GBT Regression Model\n",
    "from pyspark.ml.regression import GBTRegressor\n",
    "\n",
    "gbt = GBTRegressor(featuresCol = 'features', labelCol='Item_Outlet_Sales', maxIter=10)\n",
    "# gbt = GBTRegressor(featuresCol = 'features', labelCol='Item_Outlet_Sales', maxIter=10, maxDepth=15, minInstancesPerNode=100)\n",
    "gbt_model = gbt.fit(train_df)\n",
    "\n",
    "# Predict and Evaluate\n",
    "gbt_predictions = gbt_model.transform(test_df)\n",
    "gbt_predictions.select(\"prediction\",\"Item_Outlet_Sales\",\"features\").show(5)\n",
    "\n",
    "gbt_evaluator = RegressionEvaluator(predictionCol=\"prediction\", labelCol=\"Item_Outlet_Sales\",metricName=\"rmse\")\n",
    "print(\"Root Mean Square Error (RMSE) on test data = %g\" % gbt_evaluator.evaluate(gbt_predictions))\n",
    "\n",
    "gbt_evaluator_r2 = RegressionEvaluator(predictionCol=\"prediction\", labelCol=\"Item_Outlet_Sales\",metricName=\"r2\")\n",
    "print(\"R Squared (R2) on test data = %g\" % gbt_evaluator_r2.evaluate(gbt_predictions))"
   ]
  },
  {
   "cell_type": "code",
   "execution_count": 29,
   "metadata": {},
   "outputs": [
    {
     "output_type": "stream",
     "name": "stdout",
     "text": [
      "+------------------+-----------------+--------------------+\n",
      "|        prediction|Item_Outlet_Sales|            features|\n",
      "+------------------+-----------------+--------------------+\n",
      "|441.65932039560516|         331.5684|(35,[0,1,2,3,4,6,...|\n",
      "|  325.619648765012|         425.4462|(35,[0,1,2,3,4,6,...|\n",
      "|473.97048510979783|          945.436|(35,[0,1,2,3,4,6,...|\n",
      "|309.47752994468544|         317.5866|(35,[0,1,2,3,4,6,...|\n",
      "|319.80938730928233|         113.8518|(35,[0,1,2,3,4,6,...|\n",
      "+------------------+-----------------+--------------------+\n",
      "only showing top 5 rows\n",
      "\n",
      "Root Mean Square Error (RMSE) on test data = 1047.03\n",
      "R Squared (R2) on test data = 0.61196\n"
     ]
    }
   ],
   "source": [
    "# RandomForest Regression Model\n",
    "from pyspark.ml.tuning import CrossValidator, ParamGridBuilder\n",
    "from pyspark.ml.regression import RandomForestRegressor\n",
    "\n",
    "rf = RandomForestRegressor(featuresCol = 'features', labelCol='Item_Outlet_Sales', minInstancesPerNode=150)\n",
    "\n",
    "rf_evaluator = RegressionEvaluator(predictionCol=\"prediction\", labelCol=\"Item_Outlet_Sales\",metricName=\"rmse\")\n",
    "\n",
    "paramGrid = ParamGridBuilder() \\\n",
    "    .addGrid(rf.maxDepth, [5, 6, 10]) \\\n",
    "    .addGrid(rf.numTrees, [200, 400]) \\\n",
    "    .build()\n",
    "\n",
    "cv = CrossValidator(estimator=rf, estimatorParamMaps=paramGrid, evaluator=rf_evaluator, numFolds=5, parallelism=5)\n",
    "\n",
    "cv_model = cv.fit(train_df)\n",
    "\n",
    "rf_predictions = cv_model.transform(test_df)\n",
    "rf_predictions.select(\"prediction\",\"Item_Outlet_Sales\",\"features\").show(5)\n",
    "\n",
    "print(\"Root Mean Square Error (RMSE) on test data = %g\" % gbt_evaluator.evaluate(gbt_predictions))\n",
    "\n",
    "rf_evaluator_r2 = RegressionEvaluator(predictionCol=\"prediction\", labelCol=\"Item_Outlet_Sales\",metricName=\"r2\")\n",
    "print(\"R Squared (R2) on test data = %g\" % rf_evaluator_r2.evaluate(rf_predictions))"
   ]
  },
  {
   "source": [
    "# Results"
   ],
   "cell_type": "markdown",
   "metadata": {}
  },
  {
   "cell_type": "code",
   "execution_count": 33,
   "metadata": {},
   "outputs": [
    {
     "output_type": "display_data",
     "data": {
      "text/plain": "<Figure size 432x288 with 1 Axes>",
      "image/svg+xml": "<?xml version=\"1.0\" encoding=\"utf-8\" standalone=\"no\"?>\r\n<!DOCTYPE svg PUBLIC \"-//W3C//DTD SVG 1.1//EN\"\r\n  \"http://www.w3.org/Graphics/SVG/1.1/DTD/svg11.dtd\">\r\n<!-- Created with matplotlib (https://matplotlib.org/) -->\r\n<svg height=\"248.518125pt\" version=\"1.1\" viewBox=\"0 0 504.838393 248.518125\" width=\"504.838393pt\" xmlns=\"http://www.w3.org/2000/svg\" xmlns:xlink=\"http://www.w3.org/1999/xlink\">\r\n <defs>\r\n  <style type=\"text/css\">\r\n*{stroke-linecap:butt;stroke-linejoin:round;}\r\n  </style>\r\n </defs>\r\n <g id=\"figure_1\">\r\n  <g id=\"patch_1\">\r\n   <path d=\"M 0 248.518125 \r\nL 504.838393 248.518125 \r\nL 504.838393 0 \r\nL 0 0 \r\nz\r\n\" style=\"fill:none;\"/>\r\n  </g>\r\n  <g id=\"axes_1\">\r\n   <g id=\"patch_2\">\r\n    <path d=\"M 137.428125 224.64 \r\nL 472.228125 224.64 \r\nL 472.228125 7.2 \r\nL 137.428125 7.2 \r\nz\r\n\" style=\"fill:#ffffff;\"/>\r\n   </g>\r\n   <g id=\"patch_3\">\r\n    <path clip-path=\"url(#p786a265abd)\" d=\"M 137.428125 214.756364 \r\nL 456.25646 214.756364 \r\nL 456.25646 181.810909 \r\nL 137.428125 181.810909 \r\nz\r\n\" style=\"fill:#1f77b4;\"/>\r\n   </g>\r\n   <g id=\"patch_4\">\r\n    <path clip-path=\"url(#p786a265abd)\" d=\"M 137.428125 173.574545 \r\nL 456.285268 173.574545 \r\nL 456.285268 140.629091 \r\nL 137.428125 140.629091 \r\nz\r\n\" style=\"fill:#1f77b4;\"/>\r\n   </g>\r\n   <g id=\"patch_5\">\r\n    <path clip-path=\"url(#p786a265abd)\" d=\"M 137.428125 132.392727 \r\nL 442.103405 132.392727 \r\nL 442.103405 99.447273 \r\nL 137.428125 99.447273 \r\nz\r\n\" style=\"fill:#1f77b4;\"/>\r\n   </g>\r\n   <g id=\"patch_6\">\r\n    <path clip-path=\"url(#p786a265abd)\" d=\"M 137.428125 91.210909 \r\nL 439.049824 91.210909 \r\nL 439.049824 58.265455 \r\nL 137.428125 58.265455 \r\nz\r\n\" style=\"fill:#1f77b4;\"/>\r\n   </g>\r\n   <g id=\"patch_7\">\r\n    <path clip-path=\"url(#p786a265abd)\" d=\"M 137.428125 50.029091 \r\nL 439.049824 50.029091 \r\nL 439.049824 17.083636 \r\nL 137.428125 17.083636 \r\nz\r\n\" style=\"fill:#1f77b4;\"/>\r\n   </g>\r\n   <g id=\"matplotlib.axis_1\">\r\n    <g id=\"xtick_1\">\r\n     <g id=\"line2d_1\">\r\n      <defs>\r\n       <path d=\"M 0 0 \r\nL 0 3.5 \r\n\" id=\"md461aa82a5\" style=\"stroke:#000000;stroke-width:0.8;\"/>\r\n      </defs>\r\n      <g>\r\n       <use style=\"stroke:#000000;stroke-width:0.8;\" x=\"137.428125\" xlink:href=\"#md461aa82a5\" y=\"224.64\"/>\r\n      </g>\r\n     </g>\r\n     <g id=\"text_1\">\r\n      <!-- 0 -->\r\n      <defs>\r\n       <path d=\"M 31.78125 66.40625 \r\nQ 24.171875 66.40625 20.328125 58.90625 \r\nQ 16.5 51.421875 16.5 36.375 \r\nQ 16.5 21.390625 20.328125 13.890625 \r\nQ 24.171875 6.390625 31.78125 6.390625 \r\nQ 39.453125 6.390625 43.28125 13.890625 \r\nQ 47.125 21.390625 47.125 36.375 \r\nQ 47.125 51.421875 43.28125 58.90625 \r\nQ 39.453125 66.40625 31.78125 66.40625 \r\nz\r\nM 31.78125 74.21875 \r\nQ 44.046875 74.21875 50.515625 64.515625 \r\nQ 56.984375 54.828125 56.984375 36.375 \r\nQ 56.984375 17.96875 50.515625 8.265625 \r\nQ 44.046875 -1.421875 31.78125 -1.421875 \r\nQ 19.53125 -1.421875 13.0625 8.265625 \r\nQ 6.59375 17.96875 6.59375 36.375 \r\nQ 6.59375 54.828125 13.0625 64.515625 \r\nQ 19.53125 74.21875 31.78125 74.21875 \r\nz\r\n\" id=\"DejaVuSans-48\"/>\r\n      </defs>\r\n      <g transform=\"translate(134.246875 239.238437)scale(0.1 -0.1)\">\r\n       <use xlink:href=\"#DejaVuSans-48\"/>\r\n      </g>\r\n     </g>\r\n    </g>\r\n    <g id=\"xtick_2\">\r\n     <g id=\"line2d_2\">\r\n      <g>\r\n       <use style=\"stroke:#000000;stroke-width:0.8;\" x=\"195.042845\" xlink:href=\"#md461aa82a5\" y=\"224.64\"/>\r\n      </g>\r\n     </g>\r\n     <g id=\"text_2\">\r\n      <!-- 200 -->\r\n      <defs>\r\n       <path d=\"M 19.1875 8.296875 \r\nL 53.609375 8.296875 \r\nL 53.609375 0 \r\nL 7.328125 0 \r\nL 7.328125 8.296875 \r\nQ 12.9375 14.109375 22.625 23.890625 \r\nQ 32.328125 33.6875 34.8125 36.53125 \r\nQ 39.546875 41.84375 41.421875 45.53125 \r\nQ 43.3125 49.21875 43.3125 52.78125 \r\nQ 43.3125 58.59375 39.234375 62.25 \r\nQ 35.15625 65.921875 28.609375 65.921875 \r\nQ 23.96875 65.921875 18.8125 64.3125 \r\nQ 13.671875 62.703125 7.8125 59.421875 \r\nL 7.8125 69.390625 \r\nQ 13.765625 71.78125 18.9375 73 \r\nQ 24.125 74.21875 28.421875 74.21875 \r\nQ 39.75 74.21875 46.484375 68.546875 \r\nQ 53.21875 62.890625 53.21875 53.421875 \r\nQ 53.21875 48.921875 51.53125 44.890625 \r\nQ 49.859375 40.875 45.40625 35.40625 \r\nQ 44.1875 33.984375 37.640625 27.21875 \r\nQ 31.109375 20.453125 19.1875 8.296875 \r\nz\r\n\" id=\"DejaVuSans-50\"/>\r\n      </defs>\r\n      <g transform=\"translate(185.499095 239.238437)scale(0.1 -0.1)\">\r\n       <use xlink:href=\"#DejaVuSans-50\"/>\r\n       <use x=\"63.623047\" xlink:href=\"#DejaVuSans-48\"/>\r\n       <use x=\"127.246094\" xlink:href=\"#DejaVuSans-48\"/>\r\n      </g>\r\n     </g>\r\n    </g>\r\n    <g id=\"xtick_3\">\r\n     <g id=\"line2d_3\">\r\n      <g>\r\n       <use style=\"stroke:#000000;stroke-width:0.8;\" x=\"252.657564\" xlink:href=\"#md461aa82a5\" y=\"224.64\"/>\r\n      </g>\r\n     </g>\r\n     <g id=\"text_3\">\r\n      <!-- 400 -->\r\n      <defs>\r\n       <path d=\"M 37.796875 64.3125 \r\nL 12.890625 25.390625 \r\nL 37.796875 25.390625 \r\nz\r\nM 35.203125 72.90625 \r\nL 47.609375 72.90625 \r\nL 47.609375 25.390625 \r\nL 58.015625 25.390625 \r\nL 58.015625 17.1875 \r\nL 47.609375 17.1875 \r\nL 47.609375 0 \r\nL 37.796875 0 \r\nL 37.796875 17.1875 \r\nL 4.890625 17.1875 \r\nL 4.890625 26.703125 \r\nz\r\n\" id=\"DejaVuSans-52\"/>\r\n      </defs>\r\n      <g transform=\"translate(243.113814 239.238437)scale(0.1 -0.1)\">\r\n       <use xlink:href=\"#DejaVuSans-52\"/>\r\n       <use x=\"63.623047\" xlink:href=\"#DejaVuSans-48\"/>\r\n       <use x=\"127.246094\" xlink:href=\"#DejaVuSans-48\"/>\r\n      </g>\r\n     </g>\r\n    </g>\r\n    <g id=\"xtick_4\">\r\n     <g id=\"line2d_4\">\r\n      <g>\r\n       <use style=\"stroke:#000000;stroke-width:0.8;\" x=\"310.272284\" xlink:href=\"#md461aa82a5\" y=\"224.64\"/>\r\n      </g>\r\n     </g>\r\n     <g id=\"text_4\">\r\n      <!-- 600 -->\r\n      <defs>\r\n       <path d=\"M 33.015625 40.375 \r\nQ 26.375 40.375 22.484375 35.828125 \r\nQ 18.609375 31.296875 18.609375 23.390625 \r\nQ 18.609375 15.53125 22.484375 10.953125 \r\nQ 26.375 6.390625 33.015625 6.390625 \r\nQ 39.65625 6.390625 43.53125 10.953125 \r\nQ 47.40625 15.53125 47.40625 23.390625 \r\nQ 47.40625 31.296875 43.53125 35.828125 \r\nQ 39.65625 40.375 33.015625 40.375 \r\nz\r\nM 52.59375 71.296875 \r\nL 52.59375 62.3125 \r\nQ 48.875 64.0625 45.09375 64.984375 \r\nQ 41.3125 65.921875 37.59375 65.921875 \r\nQ 27.828125 65.921875 22.671875 59.328125 \r\nQ 17.53125 52.734375 16.796875 39.40625 \r\nQ 19.671875 43.65625 24.015625 45.921875 \r\nQ 28.375 48.1875 33.59375 48.1875 \r\nQ 44.578125 48.1875 50.953125 41.515625 \r\nQ 57.328125 34.859375 57.328125 23.390625 \r\nQ 57.328125 12.15625 50.6875 5.359375 \r\nQ 44.046875 -1.421875 33.015625 -1.421875 \r\nQ 20.359375 -1.421875 13.671875 8.265625 \r\nQ 6.984375 17.96875 6.984375 36.375 \r\nQ 6.984375 53.65625 15.1875 63.9375 \r\nQ 23.390625 74.21875 37.203125 74.21875 \r\nQ 40.921875 74.21875 44.703125 73.484375 \r\nQ 48.484375 72.75 52.59375 71.296875 \r\nz\r\n\" id=\"DejaVuSans-54\"/>\r\n      </defs>\r\n      <g transform=\"translate(300.728534 239.238437)scale(0.1 -0.1)\">\r\n       <use xlink:href=\"#DejaVuSans-54\"/>\r\n       <use x=\"63.623047\" xlink:href=\"#DejaVuSans-48\"/>\r\n       <use x=\"127.246094\" xlink:href=\"#DejaVuSans-48\"/>\r\n      </g>\r\n     </g>\r\n    </g>\r\n    <g id=\"xtick_5\">\r\n     <g id=\"line2d_5\">\r\n      <g>\r\n       <use style=\"stroke:#000000;stroke-width:0.8;\" x=\"367.887004\" xlink:href=\"#md461aa82a5\" y=\"224.64\"/>\r\n      </g>\r\n     </g>\r\n     <g id=\"text_5\">\r\n      <!-- 800 -->\r\n      <defs>\r\n       <path d=\"M 31.78125 34.625 \r\nQ 24.75 34.625 20.71875 30.859375 \r\nQ 16.703125 27.09375 16.703125 20.515625 \r\nQ 16.703125 13.921875 20.71875 10.15625 \r\nQ 24.75 6.390625 31.78125 6.390625 \r\nQ 38.8125 6.390625 42.859375 10.171875 \r\nQ 46.921875 13.96875 46.921875 20.515625 \r\nQ 46.921875 27.09375 42.890625 30.859375 \r\nQ 38.875 34.625 31.78125 34.625 \r\nz\r\nM 21.921875 38.8125 \r\nQ 15.578125 40.375 12.03125 44.71875 \r\nQ 8.5 49.078125 8.5 55.328125 \r\nQ 8.5 64.0625 14.71875 69.140625 \r\nQ 20.953125 74.21875 31.78125 74.21875 \r\nQ 42.671875 74.21875 48.875 69.140625 \r\nQ 55.078125 64.0625 55.078125 55.328125 \r\nQ 55.078125 49.078125 51.53125 44.71875 \r\nQ 48 40.375 41.703125 38.8125 \r\nQ 48.828125 37.15625 52.796875 32.3125 \r\nQ 56.78125 27.484375 56.78125 20.515625 \r\nQ 56.78125 9.90625 50.3125 4.234375 \r\nQ 43.84375 -1.421875 31.78125 -1.421875 \r\nQ 19.734375 -1.421875 13.25 4.234375 \r\nQ 6.78125 9.90625 6.78125 20.515625 \r\nQ 6.78125 27.484375 10.78125 32.3125 \r\nQ 14.796875 37.15625 21.921875 38.8125 \r\nz\r\nM 18.3125 54.390625 \r\nQ 18.3125 48.734375 21.84375 45.5625 \r\nQ 25.390625 42.390625 31.78125 42.390625 \r\nQ 38.140625 42.390625 41.71875 45.5625 \r\nQ 45.3125 48.734375 45.3125 54.390625 \r\nQ 45.3125 60.0625 41.71875 63.234375 \r\nQ 38.140625 66.40625 31.78125 66.40625 \r\nQ 25.390625 66.40625 21.84375 63.234375 \r\nQ 18.3125 60.0625 18.3125 54.390625 \r\nz\r\n\" id=\"DejaVuSans-56\"/>\r\n      </defs>\r\n      <g transform=\"translate(358.343254 239.238437)scale(0.1 -0.1)\">\r\n       <use xlink:href=\"#DejaVuSans-56\"/>\r\n       <use x=\"63.623047\" xlink:href=\"#DejaVuSans-48\"/>\r\n       <use x=\"127.246094\" xlink:href=\"#DejaVuSans-48\"/>\r\n      </g>\r\n     </g>\r\n    </g>\r\n    <g id=\"xtick_6\">\r\n     <g id=\"line2d_6\">\r\n      <g>\r\n       <use style=\"stroke:#000000;stroke-width:0.8;\" x=\"425.501723\" xlink:href=\"#md461aa82a5\" y=\"224.64\"/>\r\n      </g>\r\n     </g>\r\n     <g id=\"text_6\">\r\n      <!-- 1000 -->\r\n      <defs>\r\n       <path d=\"M 12.40625 8.296875 \r\nL 28.515625 8.296875 \r\nL 28.515625 63.921875 \r\nL 10.984375 60.40625 \r\nL 10.984375 69.390625 \r\nL 28.421875 72.90625 \r\nL 38.28125 72.90625 \r\nL 38.28125 8.296875 \r\nL 54.390625 8.296875 \r\nL 54.390625 0 \r\nL 12.40625 0 \r\nz\r\n\" id=\"DejaVuSans-49\"/>\r\n      </defs>\r\n      <g transform=\"translate(412.776723 239.238437)scale(0.1 -0.1)\">\r\n       <use xlink:href=\"#DejaVuSans-49\"/>\r\n       <use x=\"63.623047\" xlink:href=\"#DejaVuSans-48\"/>\r\n       <use x=\"127.246094\" xlink:href=\"#DejaVuSans-48\"/>\r\n       <use x=\"190.869141\" xlink:href=\"#DejaVuSans-48\"/>\r\n      </g>\r\n     </g>\r\n    </g>\r\n   </g>\r\n   <g id=\"matplotlib.axis_2\">\r\n    <g id=\"ytick_1\">\r\n     <g id=\"line2d_7\">\r\n      <defs>\r\n       <path d=\"M 0 0 \r\nL -3.5 0 \r\n\" id=\"ma47bd44860\" style=\"stroke:#000000;stroke-width:0.8;\"/>\r\n      </defs>\r\n      <g>\r\n       <use style=\"stroke:#000000;stroke-width:0.8;\" x=\"137.428125\" xlink:href=\"#ma47bd44860\" y=\"198.283636\"/>\r\n      </g>\r\n     </g>\r\n     <g id=\"text_7\">\r\n      <!-- LinearRegression -->\r\n      <defs>\r\n       <path d=\"M 9.8125 72.90625 \r\nL 19.671875 72.90625 \r\nL 19.671875 8.296875 \r\nL 55.171875 8.296875 \r\nL 55.171875 0 \r\nL 9.8125 0 \r\nz\r\n\" id=\"DejaVuSans-76\"/>\r\n       <path d=\"M 9.421875 54.6875 \r\nL 18.40625 54.6875 \r\nL 18.40625 0 \r\nL 9.421875 0 \r\nz\r\nM 9.421875 75.984375 \r\nL 18.40625 75.984375 \r\nL 18.40625 64.59375 \r\nL 9.421875 64.59375 \r\nz\r\n\" id=\"DejaVuSans-105\"/>\r\n       <path d=\"M 54.890625 33.015625 \r\nL 54.890625 0 \r\nL 45.90625 0 \r\nL 45.90625 32.71875 \r\nQ 45.90625 40.484375 42.875 44.328125 \r\nQ 39.84375 48.1875 33.796875 48.1875 \r\nQ 26.515625 48.1875 22.3125 43.546875 \r\nQ 18.109375 38.921875 18.109375 30.90625 \r\nL 18.109375 0 \r\nL 9.078125 0 \r\nL 9.078125 54.6875 \r\nL 18.109375 54.6875 \r\nL 18.109375 46.1875 \r\nQ 21.34375 51.125 25.703125 53.5625 \r\nQ 30.078125 56 35.796875 56 \r\nQ 45.21875 56 50.046875 50.171875 \r\nQ 54.890625 44.34375 54.890625 33.015625 \r\nz\r\n\" id=\"DejaVuSans-110\"/>\r\n       <path d=\"M 56.203125 29.59375 \r\nL 56.203125 25.203125 \r\nL 14.890625 25.203125 \r\nQ 15.484375 15.921875 20.484375 11.0625 \r\nQ 25.484375 6.203125 34.421875 6.203125 \r\nQ 39.59375 6.203125 44.453125 7.46875 \r\nQ 49.3125 8.734375 54.109375 11.28125 \r\nL 54.109375 2.78125 \r\nQ 49.265625 0.734375 44.1875 -0.34375 \r\nQ 39.109375 -1.421875 33.890625 -1.421875 \r\nQ 20.796875 -1.421875 13.15625 6.1875 \r\nQ 5.515625 13.8125 5.515625 26.8125 \r\nQ 5.515625 40.234375 12.765625 48.109375 \r\nQ 20.015625 56 32.328125 56 \r\nQ 43.359375 56 49.78125 48.890625 \r\nQ 56.203125 41.796875 56.203125 29.59375 \r\nz\r\nM 47.21875 32.234375 \r\nQ 47.125 39.59375 43.09375 43.984375 \r\nQ 39.0625 48.390625 32.421875 48.390625 \r\nQ 24.90625 48.390625 20.390625 44.140625 \r\nQ 15.875 39.890625 15.1875 32.171875 \r\nz\r\n\" id=\"DejaVuSans-101\"/>\r\n       <path d=\"M 34.28125 27.484375 \r\nQ 23.390625 27.484375 19.1875 25 \r\nQ 14.984375 22.515625 14.984375 16.5 \r\nQ 14.984375 11.71875 18.140625 8.90625 \r\nQ 21.296875 6.109375 26.703125 6.109375 \r\nQ 34.1875 6.109375 38.703125 11.40625 \r\nQ 43.21875 16.703125 43.21875 25.484375 \r\nL 43.21875 27.484375 \r\nz\r\nM 52.203125 31.203125 \r\nL 52.203125 0 \r\nL 43.21875 0 \r\nL 43.21875 8.296875 \r\nQ 40.140625 3.328125 35.546875 0.953125 \r\nQ 30.953125 -1.421875 24.3125 -1.421875 \r\nQ 15.921875 -1.421875 10.953125 3.296875 \r\nQ 6 8.015625 6 15.921875 \r\nQ 6 25.140625 12.171875 29.828125 \r\nQ 18.359375 34.515625 30.609375 34.515625 \r\nL 43.21875 34.515625 \r\nL 43.21875 35.40625 \r\nQ 43.21875 41.609375 39.140625 45 \r\nQ 35.0625 48.390625 27.6875 48.390625 \r\nQ 23 48.390625 18.546875 47.265625 \r\nQ 14.109375 46.140625 10.015625 43.890625 \r\nL 10.015625 52.203125 \r\nQ 14.9375 54.109375 19.578125 55.046875 \r\nQ 24.21875 56 28.609375 56 \r\nQ 40.484375 56 46.34375 49.84375 \r\nQ 52.203125 43.703125 52.203125 31.203125 \r\nz\r\n\" id=\"DejaVuSans-97\"/>\r\n       <path d=\"M 41.109375 46.296875 \r\nQ 39.59375 47.171875 37.8125 47.578125 \r\nQ 36.03125 48 33.890625 48 \r\nQ 26.265625 48 22.1875 43.046875 \r\nQ 18.109375 38.09375 18.109375 28.8125 \r\nL 18.109375 0 \r\nL 9.078125 0 \r\nL 9.078125 54.6875 \r\nL 18.109375 54.6875 \r\nL 18.109375 46.1875 \r\nQ 20.953125 51.171875 25.484375 53.578125 \r\nQ 30.03125 56 36.53125 56 \r\nQ 37.453125 56 38.578125 55.875 \r\nQ 39.703125 55.765625 41.0625 55.515625 \r\nz\r\n\" id=\"DejaVuSans-114\"/>\r\n       <path d=\"M 44.390625 34.1875 \r\nQ 47.5625 33.109375 50.5625 29.59375 \r\nQ 53.5625 26.078125 56.59375 19.921875 \r\nL 66.609375 0 \r\nL 56 0 \r\nL 46.6875 18.703125 \r\nQ 43.0625 26.03125 39.671875 28.421875 \r\nQ 36.28125 30.8125 30.421875 30.8125 \r\nL 19.671875 30.8125 \r\nL 19.671875 0 \r\nL 9.8125 0 \r\nL 9.8125 72.90625 \r\nL 32.078125 72.90625 \r\nQ 44.578125 72.90625 50.734375 67.671875 \r\nQ 56.890625 62.453125 56.890625 51.90625 \r\nQ 56.890625 45.015625 53.6875 40.46875 \r\nQ 50.484375 35.9375 44.390625 34.1875 \r\nz\r\nM 19.671875 64.796875 \r\nL 19.671875 38.921875 \r\nL 32.078125 38.921875 \r\nQ 39.203125 38.921875 42.84375 42.21875 \r\nQ 46.484375 45.515625 46.484375 51.90625 \r\nQ 46.484375 58.296875 42.84375 61.546875 \r\nQ 39.203125 64.796875 32.078125 64.796875 \r\nz\r\n\" id=\"DejaVuSans-82\"/>\r\n       <path d=\"M 45.40625 27.984375 \r\nQ 45.40625 37.75 41.375 43.109375 \r\nQ 37.359375 48.484375 30.078125 48.484375 \r\nQ 22.859375 48.484375 18.828125 43.109375 \r\nQ 14.796875 37.75 14.796875 27.984375 \r\nQ 14.796875 18.265625 18.828125 12.890625 \r\nQ 22.859375 7.515625 30.078125 7.515625 \r\nQ 37.359375 7.515625 41.375 12.890625 \r\nQ 45.40625 18.265625 45.40625 27.984375 \r\nz\r\nM 54.390625 6.78125 \r\nQ 54.390625 -7.171875 48.1875 -13.984375 \r\nQ 42 -20.796875 29.203125 -20.796875 \r\nQ 24.46875 -20.796875 20.265625 -20.09375 \r\nQ 16.0625 -19.390625 12.109375 -17.921875 \r\nL 12.109375 -9.1875 \r\nQ 16.0625 -11.328125 19.921875 -12.34375 \r\nQ 23.78125 -13.375 27.78125 -13.375 \r\nQ 36.625 -13.375 41.015625 -8.765625 \r\nQ 45.40625 -4.15625 45.40625 5.171875 \r\nL 45.40625 9.625 \r\nQ 42.625 4.78125 38.28125 2.390625 \r\nQ 33.9375 0 27.875 0 \r\nQ 17.828125 0 11.671875 7.65625 \r\nQ 5.515625 15.328125 5.515625 27.984375 \r\nQ 5.515625 40.671875 11.671875 48.328125 \r\nQ 17.828125 56 27.875 56 \r\nQ 33.9375 56 38.28125 53.609375 \r\nQ 42.625 51.21875 45.40625 46.390625 \r\nL 45.40625 54.6875 \r\nL 54.390625 54.6875 \r\nz\r\n\" id=\"DejaVuSans-103\"/>\r\n       <path d=\"M 44.28125 53.078125 \r\nL 44.28125 44.578125 \r\nQ 40.484375 46.53125 36.375 47.5 \r\nQ 32.28125 48.484375 27.875 48.484375 \r\nQ 21.1875 48.484375 17.84375 46.4375 \r\nQ 14.5 44.390625 14.5 40.28125 \r\nQ 14.5 37.15625 16.890625 35.375 \r\nQ 19.28125 33.59375 26.515625 31.984375 \r\nL 29.59375 31.296875 \r\nQ 39.15625 29.25 43.1875 25.515625 \r\nQ 47.21875 21.78125 47.21875 15.09375 \r\nQ 47.21875 7.46875 41.1875 3.015625 \r\nQ 35.15625 -1.421875 24.609375 -1.421875 \r\nQ 20.21875 -1.421875 15.453125 -0.5625 \r\nQ 10.6875 0.296875 5.421875 2 \r\nL 5.421875 11.28125 \r\nQ 10.40625 8.6875 15.234375 7.390625 \r\nQ 20.0625 6.109375 24.8125 6.109375 \r\nQ 31.15625 6.109375 34.5625 8.28125 \r\nQ 37.984375 10.453125 37.984375 14.40625 \r\nQ 37.984375 18.0625 35.515625 20.015625 \r\nQ 33.0625 21.96875 24.703125 23.78125 \r\nL 21.578125 24.515625 \r\nQ 13.234375 26.265625 9.515625 29.90625 \r\nQ 5.8125 33.546875 5.8125 39.890625 \r\nQ 5.8125 47.609375 11.28125 51.796875 \r\nQ 16.75 56 26.8125 56 \r\nQ 31.78125 56 36.171875 55.265625 \r\nQ 40.578125 54.546875 44.28125 53.078125 \r\nz\r\n\" id=\"DejaVuSans-115\"/>\r\n       <path d=\"M 30.609375 48.390625 \r\nQ 23.390625 48.390625 19.1875 42.75 \r\nQ 14.984375 37.109375 14.984375 27.296875 \r\nQ 14.984375 17.484375 19.15625 11.84375 \r\nQ 23.34375 6.203125 30.609375 6.203125 \r\nQ 37.796875 6.203125 41.984375 11.859375 \r\nQ 46.1875 17.53125 46.1875 27.296875 \r\nQ 46.1875 37.015625 41.984375 42.703125 \r\nQ 37.796875 48.390625 30.609375 48.390625 \r\nz\r\nM 30.609375 56 \r\nQ 42.328125 56 49.015625 48.375 \r\nQ 55.71875 40.765625 55.71875 27.296875 \r\nQ 55.71875 13.875 49.015625 6.21875 \r\nQ 42.328125 -1.421875 30.609375 -1.421875 \r\nQ 18.84375 -1.421875 12.171875 6.21875 \r\nQ 5.515625 13.875 5.515625 27.296875 \r\nQ 5.515625 40.765625 12.171875 48.375 \r\nQ 18.84375 56 30.609375 56 \r\nz\r\n\" id=\"DejaVuSans-111\"/>\r\n      </defs>\r\n      <g transform=\"translate(43.990625 202.082855)scale(0.1 -0.1)\">\r\n       <use xlink:href=\"#DejaVuSans-76\"/>\r\n       <use x=\"55.712891\" xlink:href=\"#DejaVuSans-105\"/>\r\n       <use x=\"83.496094\" xlink:href=\"#DejaVuSans-110\"/>\r\n       <use x=\"146.875\" xlink:href=\"#DejaVuSans-101\"/>\r\n       <use x=\"208.398438\" xlink:href=\"#DejaVuSans-97\"/>\r\n       <use x=\"269.677734\" xlink:href=\"#DejaVuSans-114\"/>\r\n       <use x=\"310.791016\" xlink:href=\"#DejaVuSans-82\"/>\r\n       <use x=\"380.210938\" xlink:href=\"#DejaVuSans-101\"/>\r\n       <use x=\"441.734375\" xlink:href=\"#DejaVuSans-103\"/>\r\n       <use x=\"505.210938\" xlink:href=\"#DejaVuSans-114\"/>\r\n       <use x=\"546.292969\" xlink:href=\"#DejaVuSans-101\"/>\r\n       <use x=\"607.816406\" xlink:href=\"#DejaVuSans-115\"/>\r\n       <use x=\"659.916016\" xlink:href=\"#DejaVuSans-115\"/>\r\n       <use x=\"712.015625\" xlink:href=\"#DejaVuSans-105\"/>\r\n       <use x=\"739.798828\" xlink:href=\"#DejaVuSans-111\"/>\r\n       <use x=\"800.980469\" xlink:href=\"#DejaVuSans-110\"/>\r\n      </g>\r\n     </g>\r\n    </g>\r\n    <g id=\"ytick_2\">\r\n     <g id=\"line2d_8\">\r\n      <g>\r\n       <use style=\"stroke:#000000;stroke-width:0.8;\" x=\"137.428125\" xlink:href=\"#ma47bd44860\" y=\"157.101818\"/>\r\n      </g>\r\n     </g>\r\n     <g id=\"text_8\">\r\n      <!-- LassoRegression -->\r\n      <g transform=\"translate(46.832813 160.901037)scale(0.1 -0.1)\">\r\n       <use xlink:href=\"#DejaVuSans-76\"/>\r\n       <use x=\"55.712891\" xlink:href=\"#DejaVuSans-97\"/>\r\n       <use x=\"116.992188\" xlink:href=\"#DejaVuSans-115\"/>\r\n       <use x=\"169.091797\" xlink:href=\"#DejaVuSans-115\"/>\r\n       <use x=\"221.191406\" xlink:href=\"#DejaVuSans-111\"/>\r\n       <use x=\"282.373047\" xlink:href=\"#DejaVuSans-82\"/>\r\n       <use x=\"351.792969\" xlink:href=\"#DejaVuSans-101\"/>\r\n       <use x=\"413.316406\" xlink:href=\"#DejaVuSans-103\"/>\r\n       <use x=\"476.792969\" xlink:href=\"#DejaVuSans-114\"/>\r\n       <use x=\"517.875\" xlink:href=\"#DejaVuSans-101\"/>\r\n       <use x=\"579.398438\" xlink:href=\"#DejaVuSans-115\"/>\r\n       <use x=\"631.498047\" xlink:href=\"#DejaVuSans-115\"/>\r\n       <use x=\"683.597656\" xlink:href=\"#DejaVuSans-105\"/>\r\n       <use x=\"711.380859\" xlink:href=\"#DejaVuSans-111\"/>\r\n       <use x=\"772.5625\" xlink:href=\"#DejaVuSans-110\"/>\r\n      </g>\r\n     </g>\r\n    </g>\r\n    <g id=\"ytick_3\">\r\n     <g id=\"line2d_9\">\r\n      <g>\r\n       <use style=\"stroke:#000000;stroke-width:0.8;\" x=\"137.428125\" xlink:href=\"#ma47bd44860\" y=\"115.92\"/>\r\n      </g>\r\n     </g>\r\n     <g id=\"text_9\">\r\n      <!-- DecisionTreeRegressor -->\r\n      <defs>\r\n       <path d=\"M 19.671875 64.796875 \r\nL 19.671875 8.109375 \r\nL 31.59375 8.109375 \r\nQ 46.6875 8.109375 53.6875 14.9375 \r\nQ 60.6875 21.78125 60.6875 36.53125 \r\nQ 60.6875 51.171875 53.6875 57.984375 \r\nQ 46.6875 64.796875 31.59375 64.796875 \r\nz\r\nM 9.8125 72.90625 \r\nL 30.078125 72.90625 \r\nQ 51.265625 72.90625 61.171875 64.09375 \r\nQ 71.09375 55.28125 71.09375 36.53125 \r\nQ 71.09375 17.671875 61.125 8.828125 \r\nQ 51.171875 0 30.078125 0 \r\nL 9.8125 0 \r\nz\r\n\" id=\"DejaVuSans-68\"/>\r\n       <path d=\"M 48.78125 52.59375 \r\nL 48.78125 44.1875 \r\nQ 44.96875 46.296875 41.140625 47.34375 \r\nQ 37.3125 48.390625 33.40625 48.390625 \r\nQ 24.65625 48.390625 19.8125 42.84375 \r\nQ 14.984375 37.3125 14.984375 27.296875 \r\nQ 14.984375 17.28125 19.8125 11.734375 \r\nQ 24.65625 6.203125 33.40625 6.203125 \r\nQ 37.3125 6.203125 41.140625 7.25 \r\nQ 44.96875 8.296875 48.78125 10.40625 \r\nL 48.78125 2.09375 \r\nQ 45.015625 0.34375 40.984375 -0.53125 \r\nQ 36.96875 -1.421875 32.421875 -1.421875 \r\nQ 20.0625 -1.421875 12.78125 6.34375 \r\nQ 5.515625 14.109375 5.515625 27.296875 \r\nQ 5.515625 40.671875 12.859375 48.328125 \r\nQ 20.21875 56 33.015625 56 \r\nQ 37.15625 56 41.109375 55.140625 \r\nQ 45.0625 54.296875 48.78125 52.59375 \r\nz\r\n\" id=\"DejaVuSans-99\"/>\r\n       <path d=\"M -0.296875 72.90625 \r\nL 61.375 72.90625 \r\nL 61.375 64.59375 \r\nL 35.5 64.59375 \r\nL 35.5 0 \r\nL 25.59375 0 \r\nL 25.59375 64.59375 \r\nL -0.296875 64.59375 \r\nz\r\n\" id=\"DejaVuSans-84\"/>\r\n      </defs>\r\n      <g transform=\"translate(15.001563 119.719219)scale(0.1 -0.1)\">\r\n       <use xlink:href=\"#DejaVuSans-68\"/>\r\n       <use x=\"77.001953\" xlink:href=\"#DejaVuSans-101\"/>\r\n       <use x=\"138.525391\" xlink:href=\"#DejaVuSans-99\"/>\r\n       <use x=\"193.505859\" xlink:href=\"#DejaVuSans-105\"/>\r\n       <use x=\"221.289062\" xlink:href=\"#DejaVuSans-115\"/>\r\n       <use x=\"273.388672\" xlink:href=\"#DejaVuSans-105\"/>\r\n       <use x=\"301.171875\" xlink:href=\"#DejaVuSans-111\"/>\r\n       <use x=\"362.353516\" xlink:href=\"#DejaVuSans-110\"/>\r\n       <use x=\"425.732422\" xlink:href=\"#DejaVuSans-84\"/>\r\n       <use x=\"486.597656\" xlink:href=\"#DejaVuSans-114\"/>\r\n       <use x=\"527.679688\" xlink:href=\"#DejaVuSans-101\"/>\r\n       <use x=\"589.203125\" xlink:href=\"#DejaVuSans-101\"/>\r\n       <use x=\"650.726562\" xlink:href=\"#DejaVuSans-82\"/>\r\n       <use x=\"720.146484\" xlink:href=\"#DejaVuSans-101\"/>\r\n       <use x=\"781.669922\" xlink:href=\"#DejaVuSans-103\"/>\r\n       <use x=\"845.146484\" xlink:href=\"#DejaVuSans-114\"/>\r\n       <use x=\"886.228516\" xlink:href=\"#DejaVuSans-101\"/>\r\n       <use x=\"947.751953\" xlink:href=\"#DejaVuSans-115\"/>\r\n       <use x=\"999.851562\" xlink:href=\"#DejaVuSans-115\"/>\r\n       <use x=\"1051.951172\" xlink:href=\"#DejaVuSans-111\"/>\r\n       <use x=\"1113.132812\" xlink:href=\"#DejaVuSans-114\"/>\r\n      </g>\r\n     </g>\r\n    </g>\r\n    <g id=\"ytick_4\">\r\n     <g id=\"line2d_10\">\r\n      <g>\r\n       <use style=\"stroke:#000000;stroke-width:0.8;\" x=\"137.428125\" xlink:href=\"#ma47bd44860\" y=\"74.738182\"/>\r\n      </g>\r\n     </g>\r\n     <g id=\"text_10\">\r\n      <!-- GBTRegressor -->\r\n      <defs>\r\n       <path d=\"M 59.515625 10.40625 \r\nL 59.515625 29.984375 \r\nL 43.40625 29.984375 \r\nL 43.40625 38.09375 \r\nL 69.28125 38.09375 \r\nL 69.28125 6.78125 \r\nQ 63.578125 2.734375 56.6875 0.65625 \r\nQ 49.8125 -1.421875 42 -1.421875 \r\nQ 24.90625 -1.421875 15.25 8.5625 \r\nQ 5.609375 18.5625 5.609375 36.375 \r\nQ 5.609375 54.25 15.25 64.234375 \r\nQ 24.90625 74.21875 42 74.21875 \r\nQ 49.125 74.21875 55.546875 72.453125 \r\nQ 61.96875 70.703125 67.390625 67.28125 \r\nL 67.390625 56.78125 \r\nQ 61.921875 61.421875 55.765625 63.765625 \r\nQ 49.609375 66.109375 42.828125 66.109375 \r\nQ 29.4375 66.109375 22.71875 58.640625 \r\nQ 16.015625 51.171875 16.015625 36.375 \r\nQ 16.015625 21.625 22.71875 14.15625 \r\nQ 29.4375 6.6875 42.828125 6.6875 \r\nQ 48.046875 6.6875 52.140625 7.59375 \r\nQ 56.25 8.5 59.515625 10.40625 \r\nz\r\n\" id=\"DejaVuSans-71\"/>\r\n       <path d=\"M 19.671875 34.8125 \r\nL 19.671875 8.109375 \r\nL 35.5 8.109375 \r\nQ 43.453125 8.109375 47.28125 11.40625 \r\nQ 51.125 14.703125 51.125 21.484375 \r\nQ 51.125 28.328125 47.28125 31.5625 \r\nQ 43.453125 34.8125 35.5 34.8125 \r\nz\r\nM 19.671875 64.796875 \r\nL 19.671875 42.828125 \r\nL 34.28125 42.828125 \r\nQ 41.5 42.828125 45.03125 45.53125 \r\nQ 48.578125 48.25 48.578125 53.8125 \r\nQ 48.578125 59.328125 45.03125 62.0625 \r\nQ 41.5 64.796875 34.28125 64.796875 \r\nz\r\nM 9.8125 72.90625 \r\nL 35.015625 72.90625 \r\nQ 46.296875 72.90625 52.390625 68.21875 \r\nQ 58.5 63.53125 58.5 54.890625 \r\nQ 58.5 48.1875 55.375 44.234375 \r\nQ 52.25 40.28125 46.1875 39.3125 \r\nQ 53.46875 37.75 57.5 32.78125 \r\nQ 61.53125 27.828125 61.53125 20.40625 \r\nQ 61.53125 10.640625 54.890625 5.3125 \r\nQ 48.25 0 35.984375 0 \r\nL 9.8125 0 \r\nz\r\n\" id=\"DejaVuSans-66\"/>\r\n      </defs>\r\n      <g transform=\"translate(59.357813 78.537401)scale(0.1 -0.1)\">\r\n       <use xlink:href=\"#DejaVuSans-71\"/>\r\n       <use x=\"77.490234\" xlink:href=\"#DejaVuSans-66\"/>\r\n       <use x=\"146.09375\" xlink:href=\"#DejaVuSans-84\"/>\r\n       <use x=\"207.177734\" xlink:href=\"#DejaVuSans-82\"/>\r\n       <use x=\"276.597656\" xlink:href=\"#DejaVuSans-101\"/>\r\n       <use x=\"338.121094\" xlink:href=\"#DejaVuSans-103\"/>\r\n       <use x=\"401.597656\" xlink:href=\"#DejaVuSans-114\"/>\r\n       <use x=\"442.679688\" xlink:href=\"#DejaVuSans-101\"/>\r\n       <use x=\"504.203125\" xlink:href=\"#DejaVuSans-115\"/>\r\n       <use x=\"556.302734\" xlink:href=\"#DejaVuSans-115\"/>\r\n       <use x=\"608.402344\" xlink:href=\"#DejaVuSans-111\"/>\r\n       <use x=\"669.583984\" xlink:href=\"#DejaVuSans-114\"/>\r\n      </g>\r\n     </g>\r\n    </g>\r\n    <g id=\"ytick_5\">\r\n     <g id=\"line2d_11\">\r\n      <g>\r\n       <use style=\"stroke:#000000;stroke-width:0.8;\" x=\"137.428125\" xlink:href=\"#ma47bd44860\" y=\"33.556364\"/>\r\n      </g>\r\n     </g>\r\n     <g id=\"text_11\">\r\n      <!-- RandomForestRegressor -->\r\n      <defs>\r\n       <path d=\"M 45.40625 46.390625 \r\nL 45.40625 75.984375 \r\nL 54.390625 75.984375 \r\nL 54.390625 0 \r\nL 45.40625 0 \r\nL 45.40625 8.203125 \r\nQ 42.578125 3.328125 38.25 0.953125 \r\nQ 33.9375 -1.421875 27.875 -1.421875 \r\nQ 17.96875 -1.421875 11.734375 6.484375 \r\nQ 5.515625 14.40625 5.515625 27.296875 \r\nQ 5.515625 40.1875 11.734375 48.09375 \r\nQ 17.96875 56 27.875 56 \r\nQ 33.9375 56 38.25 53.625 \r\nQ 42.578125 51.265625 45.40625 46.390625 \r\nz\r\nM 14.796875 27.296875 \r\nQ 14.796875 17.390625 18.875 11.75 \r\nQ 22.953125 6.109375 30.078125 6.109375 \r\nQ 37.203125 6.109375 41.296875 11.75 \r\nQ 45.40625 17.390625 45.40625 27.296875 \r\nQ 45.40625 37.203125 41.296875 42.84375 \r\nQ 37.203125 48.484375 30.078125 48.484375 \r\nQ 22.953125 48.484375 18.875 42.84375 \r\nQ 14.796875 37.203125 14.796875 27.296875 \r\nz\r\n\" id=\"DejaVuSans-100\"/>\r\n       <path d=\"M 52 44.1875 \r\nQ 55.375 50.25 60.0625 53.125 \r\nQ 64.75 56 71.09375 56 \r\nQ 79.640625 56 84.28125 50.015625 \r\nQ 88.921875 44.046875 88.921875 33.015625 \r\nL 88.921875 0 \r\nL 79.890625 0 \r\nL 79.890625 32.71875 \r\nQ 79.890625 40.578125 77.09375 44.375 \r\nQ 74.3125 48.1875 68.609375 48.1875 \r\nQ 61.625 48.1875 57.5625 43.546875 \r\nQ 53.515625 38.921875 53.515625 30.90625 \r\nL 53.515625 0 \r\nL 44.484375 0 \r\nL 44.484375 32.71875 \r\nQ 44.484375 40.625 41.703125 44.40625 \r\nQ 38.921875 48.1875 33.109375 48.1875 \r\nQ 26.21875 48.1875 22.15625 43.53125 \r\nQ 18.109375 38.875 18.109375 30.90625 \r\nL 18.109375 0 \r\nL 9.078125 0 \r\nL 9.078125 54.6875 \r\nL 18.109375 54.6875 \r\nL 18.109375 46.1875 \r\nQ 21.1875 51.21875 25.484375 53.609375 \r\nQ 29.78125 56 35.6875 56 \r\nQ 41.65625 56 45.828125 52.96875 \r\nQ 50 49.953125 52 44.1875 \r\nz\r\n\" id=\"DejaVuSans-109\"/>\r\n       <path d=\"M 9.8125 72.90625 \r\nL 51.703125 72.90625 \r\nL 51.703125 64.59375 \r\nL 19.671875 64.59375 \r\nL 19.671875 43.109375 \r\nL 48.578125 43.109375 \r\nL 48.578125 34.8125 \r\nL 19.671875 34.8125 \r\nL 19.671875 0 \r\nL 9.8125 0 \r\nz\r\n\" id=\"DejaVuSans-70\"/>\r\n       <path d=\"M 18.3125 70.21875 \r\nL 18.3125 54.6875 \r\nL 36.8125 54.6875 \r\nL 36.8125 47.703125 \r\nL 18.3125 47.703125 \r\nL 18.3125 18.015625 \r\nQ 18.3125 11.328125 20.140625 9.421875 \r\nQ 21.96875 7.515625 27.59375 7.515625 \r\nL 36.8125 7.515625 \r\nL 36.8125 0 \r\nL 27.59375 0 \r\nQ 17.1875 0 13.234375 3.875 \r\nQ 9.28125 7.765625 9.28125 18.015625 \r\nL 9.28125 47.703125 \r\nL 2.6875 47.703125 \r\nL 2.6875 54.6875 \r\nL 9.28125 54.6875 \r\nL 9.28125 70.21875 \r\nz\r\n\" id=\"DejaVuSans-116\"/>\r\n      </defs>\r\n      <g transform=\"translate(7.2 37.355582)scale(0.1 -0.1)\">\r\n       <use xlink:href=\"#DejaVuSans-82\"/>\r\n       <use x=\"69.451172\" xlink:href=\"#DejaVuSans-97\"/>\r\n       <use x=\"130.730469\" xlink:href=\"#DejaVuSans-110\"/>\r\n       <use x=\"194.109375\" xlink:href=\"#DejaVuSans-100\"/>\r\n       <use x=\"257.585938\" xlink:href=\"#DejaVuSans-111\"/>\r\n       <use x=\"318.767578\" xlink:href=\"#DejaVuSans-109\"/>\r\n       <use x=\"416.179688\" xlink:href=\"#DejaVuSans-70\"/>\r\n       <use x=\"473.652344\" xlink:href=\"#DejaVuSans-111\"/>\r\n       <use x=\"534.833984\" xlink:href=\"#DejaVuSans-114\"/>\r\n       <use x=\"575.916016\" xlink:href=\"#DejaVuSans-101\"/>\r\n       <use x=\"637.439453\" xlink:href=\"#DejaVuSans-115\"/>\r\n       <use x=\"689.539062\" xlink:href=\"#DejaVuSans-116\"/>\r\n       <use x=\"728.748047\" xlink:href=\"#DejaVuSans-82\"/>\r\n       <use x=\"798.167969\" xlink:href=\"#DejaVuSans-101\"/>\r\n       <use x=\"859.691406\" xlink:href=\"#DejaVuSans-103\"/>\r\n       <use x=\"923.167969\" xlink:href=\"#DejaVuSans-114\"/>\r\n       <use x=\"964.25\" xlink:href=\"#DejaVuSans-101\"/>\r\n       <use x=\"1025.773438\" xlink:href=\"#DejaVuSans-115\"/>\r\n       <use x=\"1077.873047\" xlink:href=\"#DejaVuSans-115\"/>\r\n       <use x=\"1129.972656\" xlink:href=\"#DejaVuSans-111\"/>\r\n       <use x=\"1191.154297\" xlink:href=\"#DejaVuSans-114\"/>\r\n      </g>\r\n     </g>\r\n    </g>\r\n   </g>\r\n   <g id=\"patch_8\">\r\n    <path d=\"M 137.428125 224.64 \r\nL 137.428125 7.2 \r\n\" style=\"fill:none;stroke:#000000;stroke-linecap:square;stroke-linejoin:miter;stroke-width:0.8;\"/>\r\n   </g>\r\n   <g id=\"patch_9\">\r\n    <path d=\"M 472.228125 224.64 \r\nL 472.228125 7.2 \r\n\" style=\"fill:none;stroke:#000000;stroke-linecap:square;stroke-linejoin:miter;stroke-width:0.8;\"/>\r\n   </g>\r\n   <g id=\"patch_10\">\r\n    <path d=\"M 137.428125 224.64 \r\nL 472.228125 224.64 \r\n\" style=\"fill:none;stroke:#000000;stroke-linecap:square;stroke-linejoin:miter;stroke-width:0.8;\"/>\r\n   </g>\r\n   <g id=\"patch_11\">\r\n    <path d=\"M 137.428125 7.2 \r\nL 472.228125 7.2 \r\n\" style=\"fill:none;stroke:#000000;stroke-linecap:square;stroke-linejoin:miter;stroke-width:0.8;\"/>\r\n   </g>\r\n   <g id=\"text_12\">\r\n    <!-- 1106.76 -->\r\n    <defs>\r\n     <path d=\"M 10.6875 12.40625 \r\nL 21 12.40625 \r\nL 21 0 \r\nL 10.6875 0 \r\nz\r\n\" id=\"DejaVuSans-46\"/>\r\n     <path d=\"M 8.203125 72.90625 \r\nL 55.078125 72.90625 \r\nL 55.078125 68.703125 \r\nL 28.609375 0 \r\nL 18.3125 0 \r\nL 43.21875 64.59375 \r\nL 8.203125 64.59375 \r\nz\r\n\" id=\"DejaVuSans-55\"/>\r\n    </defs>\r\n    <g transform=\"translate(456.25646 198.283636)scale(0.1 -0.1)\">\r\n     <use xlink:href=\"#DejaVuSans-49\"/>\r\n     <use x=\"63.623047\" xlink:href=\"#DejaVuSans-49\"/>\r\n     <use x=\"127.246094\" xlink:href=\"#DejaVuSans-48\"/>\r\n     <use x=\"190.869141\" xlink:href=\"#DejaVuSans-54\"/>\r\n     <use x=\"254.492188\" xlink:href=\"#DejaVuSans-46\"/>\r\n     <use x=\"286.279297\" xlink:href=\"#DejaVuSans-55\"/>\r\n     <use x=\"349.902344\" xlink:href=\"#DejaVuSans-54\"/>\r\n    </g>\r\n   </g>\r\n   <g id=\"text_13\">\r\n    <!-- 1106.86 -->\r\n    <g transform=\"translate(456.285268 157.101818)scale(0.1 -0.1)\">\r\n     <use xlink:href=\"#DejaVuSans-49\"/>\r\n     <use x=\"63.623047\" xlink:href=\"#DejaVuSans-49\"/>\r\n     <use x=\"127.246094\" xlink:href=\"#DejaVuSans-48\"/>\r\n     <use x=\"190.869141\" xlink:href=\"#DejaVuSans-54\"/>\r\n     <use x=\"254.492188\" xlink:href=\"#DejaVuSans-46\"/>\r\n     <use x=\"286.279297\" xlink:href=\"#DejaVuSans-56\"/>\r\n     <use x=\"349.902344\" xlink:href=\"#DejaVuSans-54\"/>\r\n    </g>\r\n   </g>\r\n   <g id=\"text_14\">\r\n    <!-- 1057.63 -->\r\n    <defs>\r\n     <path d=\"M 10.796875 72.90625 \r\nL 49.515625 72.90625 \r\nL 49.515625 64.59375 \r\nL 19.828125 64.59375 \r\nL 19.828125 46.734375 \r\nQ 21.96875 47.46875 24.109375 47.828125 \r\nQ 26.265625 48.1875 28.421875 48.1875 \r\nQ 40.625 48.1875 47.75 41.5 \r\nQ 54.890625 34.8125 54.890625 23.390625 \r\nQ 54.890625 11.625 47.5625 5.09375 \r\nQ 40.234375 -1.421875 26.90625 -1.421875 \r\nQ 22.3125 -1.421875 17.546875 -0.640625 \r\nQ 12.796875 0.140625 7.71875 1.703125 \r\nL 7.71875 11.625 \r\nQ 12.109375 9.234375 16.796875 8.0625 \r\nQ 21.484375 6.890625 26.703125 6.890625 \r\nQ 35.15625 6.890625 40.078125 11.328125 \r\nQ 45.015625 15.765625 45.015625 23.390625 \r\nQ 45.015625 31 40.078125 35.4375 \r\nQ 35.15625 39.890625 26.703125 39.890625 \r\nQ 22.75 39.890625 18.8125 39.015625 \r\nQ 14.890625 38.140625 10.796875 36.28125 \r\nz\r\n\" id=\"DejaVuSans-53\"/>\r\n     <path d=\"M 40.578125 39.3125 \r\nQ 47.65625 37.796875 51.625 33 \r\nQ 55.609375 28.21875 55.609375 21.1875 \r\nQ 55.609375 10.40625 48.1875 4.484375 \r\nQ 40.765625 -1.421875 27.09375 -1.421875 \r\nQ 22.515625 -1.421875 17.65625 -0.515625 \r\nQ 12.796875 0.390625 7.625 2.203125 \r\nL 7.625 11.71875 \r\nQ 11.71875 9.328125 16.59375 8.109375 \r\nQ 21.484375 6.890625 26.8125 6.890625 \r\nQ 36.078125 6.890625 40.9375 10.546875 \r\nQ 45.796875 14.203125 45.796875 21.1875 \r\nQ 45.796875 27.640625 41.28125 31.265625 \r\nQ 36.765625 34.90625 28.71875 34.90625 \r\nL 20.21875 34.90625 \r\nL 20.21875 43.015625 \r\nL 29.109375 43.015625 \r\nQ 36.375 43.015625 40.234375 45.921875 \r\nQ 44.09375 48.828125 44.09375 54.296875 \r\nQ 44.09375 59.90625 40.109375 62.90625 \r\nQ 36.140625 65.921875 28.71875 65.921875 \r\nQ 24.65625 65.921875 20.015625 65.03125 \r\nQ 15.375 64.15625 9.8125 62.3125 \r\nL 9.8125 71.09375 \r\nQ 15.4375 72.65625 20.34375 73.4375 \r\nQ 25.25 74.21875 29.59375 74.21875 \r\nQ 40.828125 74.21875 47.359375 69.109375 \r\nQ 53.90625 64.015625 53.90625 55.328125 \r\nQ 53.90625 49.265625 50.4375 45.09375 \r\nQ 46.96875 40.921875 40.578125 39.3125 \r\nz\r\n\" id=\"DejaVuSans-51\"/>\r\n    </defs>\r\n    <g transform=\"translate(442.103405 115.92)scale(0.1 -0.1)\">\r\n     <use xlink:href=\"#DejaVuSans-49\"/>\r\n     <use x=\"63.623047\" xlink:href=\"#DejaVuSans-48\"/>\r\n     <use x=\"127.246094\" xlink:href=\"#DejaVuSans-53\"/>\r\n     <use x=\"190.869141\" xlink:href=\"#DejaVuSans-55\"/>\r\n     <use x=\"254.492188\" xlink:href=\"#DejaVuSans-46\"/>\r\n     <use x=\"286.279297\" xlink:href=\"#DejaVuSans-54\"/>\r\n     <use x=\"349.902344\" xlink:href=\"#DejaVuSans-51\"/>\r\n    </g>\r\n   </g>\r\n   <g id=\"text_15\">\r\n    <!-- 1047.03 -->\r\n    <g transform=\"translate(439.049824 74.738182)scale(0.1 -0.1)\">\r\n     <use xlink:href=\"#DejaVuSans-49\"/>\r\n     <use x=\"63.623047\" xlink:href=\"#DejaVuSans-48\"/>\r\n     <use x=\"127.246094\" xlink:href=\"#DejaVuSans-52\"/>\r\n     <use x=\"190.869141\" xlink:href=\"#DejaVuSans-55\"/>\r\n     <use x=\"254.492188\" xlink:href=\"#DejaVuSans-46\"/>\r\n     <use x=\"286.279297\" xlink:href=\"#DejaVuSans-48\"/>\r\n     <use x=\"349.902344\" xlink:href=\"#DejaVuSans-51\"/>\r\n    </g>\r\n   </g>\r\n   <g id=\"text_16\">\r\n    <!-- 1047.03 -->\r\n    <g transform=\"translate(439.049824 33.556364)scale(0.1 -0.1)\">\r\n     <use xlink:href=\"#DejaVuSans-49\"/>\r\n     <use x=\"63.623047\" xlink:href=\"#DejaVuSans-48\"/>\r\n     <use x=\"127.246094\" xlink:href=\"#DejaVuSans-52\"/>\r\n     <use x=\"190.869141\" xlink:href=\"#DejaVuSans-55\"/>\r\n     <use x=\"254.492188\" xlink:href=\"#DejaVuSans-46\"/>\r\n     <use x=\"286.279297\" xlink:href=\"#DejaVuSans-48\"/>\r\n     <use x=\"349.902344\" xlink:href=\"#DejaVuSans-51\"/>\r\n    </g>\r\n   </g>\r\n  </g>\r\n </g>\r\n <defs>\r\n  <clipPath id=\"p786a265abd\">\r\n   <rect height=\"217.44\" width=\"334.8\" x=\"137.428125\" y=\"7.2\"/>\r\n  </clipPath>\r\n </defs>\r\n</svg>\r\n",
      "image/png": "[encoded data removed]"
     },
     "metadata": {
      "needs_background": "light"
     }
    }
   ],
   "source": [
    "import numpy as np \n",
    "import matplotlib.pyplot as plt \n",
    "\n",
    "models = ['LinearRegression', 'LassoRegression', 'DecisionTreeRegressor', \n",
    "\t\t'GBTRegressor', 'RandomForestRegressor'] \n",
    "\n",
    "data = [1106.76, 1106.86, 1057.63, 1047.03, 1047.03]\n",
    "  \n",
    "plt.barh(models, data) \n",
    "  \n",
    "for index, value in enumerate(data): \n",
    "    plt.text(value, index, \n",
    "             str(value)) \n",
    "  \n",
    "plt.show() "
   ]
  },
  {
   "source": [
    "### Here we can easily see that RFR and GBT outplayed all the other models as they have least RMSE scores on test_dataset.\n",
    "### Improvements can be done as we can apply ANN and also can change the parameters in CrossValidations and other models' arguments as well.\n",
    "### We can even apply word embeddings as in case of neuralNets as well."
   ],
   "cell_type": "markdown",
   "metadata": {}
  }
 ]
}